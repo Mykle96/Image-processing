{
 "cells": [
  {
   "cell_type": "code",
   "execution_count": 14,
   "id": "0d051c87",
   "metadata": {},
   "outputs": [],
   "source": [
    "import utils\n",
    "import skimage\n",
    "import skimage.morphology\n",
    "import numpy as np\n",
    "#from task3a import remove_noise"
   ]
  },
  {
   "cell_type": "code",
   "execution_count": 17,
   "id": "9687191f",
   "metadata": {},
   "outputs": [],
   "source": [
    "#Need to add the previous function as the import above is not for jupyter\n",
    "def remove_noise(im: np.ndarray) -> np.ndarray:\n",
    "    \"\"\"\n",
    "        A function that removes noise in the input image.\n",
    "        args:\n",
    "            im: np.ndarray of shape (H, W) with boolean values (dtype=np.bool)\n",
    "        return:\n",
    "            (np.ndarray) of shape (H, W). dtype=np.bool\n",
    "    \"\"\"\n",
    "    ### START YOUR CODE HERE ### (You can change anything inside this block)\n",
    "    # You can also define other helper functions\n",
    "    \n",
    "    #Using the skimage.morphology library: https://scikit-image.org/docs/dev/api/skimage.morphology.html\n",
    "    #Need to create a footprint,  \n",
    "    #footprint = skimage.morphology.disk(5)\n",
    "    footprint = skimage.morphology.disk(7)\n",
    "    #footprint = skimage.morphology.disk(10)\n",
    "    #footprint = skimage.morphology.diamond(8)\n",
    "    processed_image = skimage.morphology.binary_opening(im, footprint)\n",
    "    processed_image = skimage.morphology.binary_closing(processed_image, footprint)\n",
    "\n",
    "    return processed_image\n",
    "\n",
    "\n",
    "def distance_transform(im: np.ndarray) -> np.ndarray:\n",
    "    \"\"\"\n",
    "        A function that computes the distance to the closest boundary pixel.\n",
    "\n",
    "        args:\n",
    "            im: np.ndarray of shape (H, W) with boolean values (dtype=np.bool)\n",
    "        return:\n",
    "            (np.ndarray) of shape (H, W). dtype=np.int32\n",
    "    \"\"\"\n",
    "    ### START YOUR CODE HERE ### (You can change anything inside this block)\n",
    "    # You can also define other helper functions\n",
    "    assert im.dtype == np.bool\n",
    "    structuring_element = np.array([\n",
    "        [1, 1, 1],\n",
    "        [1, 1, 1],\n",
    "        [1, 1, 1]\n",
    "    ], dtype=bool)\n",
    "    H = im.shape[0]\n",
    "    W = im.shape[1]\n",
    "    result = np.zeros(im.shape, dtype = np.int32)\n",
    "    check = True\n",
    "    \n",
    "    while check:\n",
    "        #Iterating through the image to find where the values of h and w are True\n",
    "        for h in range(H):\n",
    "            for w in range(W):\n",
    "                if (im[h, w]):\n",
    "                    result[h, w] += 1  #Setting the value to one      \n",
    "        im = skimage.morphology.binary_erosion(im, structuring_element)\n",
    "        #Need to have an closing check\n",
    "        if not im.any():\n",
    "            check = False\n",
    "\n",
    "    return result\n",
    "   \n",
    "    ### END YOUR CODE HERE ###"
   ]
  },
  {
   "cell_type": "code",
   "execution_count": 18,
   "id": "ce119b78",
   "metadata": {},
   "outputs": [
    {
     "name": "stdout",
     "output_type": "stream",
     "text": [
      "Reading image: images/noisy.png\n",
      "Saving image to: image_processed/noisy-distance.png\n"
     ]
    }
   ],
   "source": [
    "if __name__ == \"__main__\":\n",
    "    im = utils.read_image(\"noisy.png\")\n",
    "    binary_image = (im != 0)\n",
    "    noise_free_image = remove_noise(binary_image)\n",
    "    distance = distance_transform(noise_free_image)\n",
    "\n",
    "    assert im.shape == distance.shape, \"Expected image shape ({}) to be same as resulting image shape ({})\".format(\n",
    "            im.shape, distance.shape)\n",
    "    assert distance.dtype == np.int32, \"Expected resulting image dtype to be np.int32. Was: {}\".format(\n",
    "            distance.dtype)\n",
    "\n",
    "    distance = utils.to_uint8(distance)\n",
    "    utils.save_im(\"noisy-distance.png\", distance)"
   ]
  },
  {
   "cell_type": "code",
   "execution_count": null,
   "id": "stable-contents",
   "metadata": {},
   "outputs": [],
   "source": []
  }
 ],
 "metadata": {
  "kernelspec": {
   "display_name": "Python 3",
   "language": "python",
   "name": "python3"
  },
  "language_info": {
   "codemirror_mode": {
    "name": "ipython",
    "version": 3
   },
   "file_extension": ".py",
   "mimetype": "text/x-python",
   "name": "python",
   "nbconvert_exporter": "python",
   "pygments_lexer": "ipython3",
   "version": "3.8.5"
  }
 },
 "nbformat": 4,
 "nbformat_minor": 5
}
